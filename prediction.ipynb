{
 "cells": [
  {
   "cell_type": "code",
   "execution_count": 1,
   "metadata": {},
   "outputs": [],
   "source": [
    "# Step 1: Import Libraries and Load the Model\n",
    "import numpy as np\n",
    "import tensorflow as tf\n",
    "from tensorflow.keras.datasets import imdb\n",
    "from tensorflow.keras.preprocessing import sequence\n",
    "from tensorflow.keras.models import load_model"
   ]
  },
  {
   "cell_type": "code",
   "execution_count": 2,
   "metadata": {},
   "outputs": [],
   "source": [
    "\n",
    "# Load the IMDB dataset word index\n",
    "word_index = imdb.get_word_index()\n",
    "reverse_word_index = {value: key for key, value in word_index.items()}"
   ]
  },
  {
   "cell_type": "code",
   "execution_count": 4,
   "metadata": {},
   "outputs": [
    {
     "name": "stderr",
     "output_type": "stream",
     "text": [
      "WARNING:absl:Compiled the loaded model, but the compiled metrics have yet to be built. `model.compile_metrics` will be empty until you train or evaluate the model.\n"
     ]
    },
    {
     "data": {
      "text/html": [
       "<pre style=\"white-space:pre;overflow-x:auto;line-height:normal;font-family:Menlo,'DejaVu Sans Mono',consolas,'Courier New',monospace\"><span style=\"font-weight: bold\">Model: \"sequential\"</span>\n",
       "</pre>\n"
      ],
      "text/plain": [
       "\u001b[1mModel: \"sequential\"\u001b[0m\n"
      ]
     },
     "metadata": {},
     "output_type": "display_data"
    },
    {
     "data": {
      "text/html": [
       "<pre style=\"white-space:pre;overflow-x:auto;line-height:normal;font-family:Menlo,'DejaVu Sans Mono',consolas,'Courier New',monospace\">┏━━━━━━━━━━━━━━━━━━━━━━━━━━━━━━━━━┳━━━━━━━━━━━━━━━━━━━━━━━━┳━━━━━━━━━━━━━━━┓\n",
       "┃<span style=\"font-weight: bold\"> Layer (type)                    </span>┃<span style=\"font-weight: bold\"> Output Shape           </span>┃<span style=\"font-weight: bold\">       Param # </span>┃\n",
       "┡━━━━━━━━━━━━━━━━━━━━━━━━━━━━━━━━━╇━━━━━━━━━━━━━━━━━━━━━━━━╇━━━━━━━━━━━━━━━┩\n",
       "│ embedding (<span style=\"color: #0087ff; text-decoration-color: #0087ff\">Embedding</span>)           │ (<span style=\"color: #00af00; text-decoration-color: #00af00\">32</span>, <span style=\"color: #00af00; text-decoration-color: #00af00\">500</span>, <span style=\"color: #00af00; text-decoration-color: #00af00\">128</span>)         │     <span style=\"color: #00af00; text-decoration-color: #00af00\">1,280,000</span> │\n",
       "├─────────────────────────────────┼────────────────────────┼───────────────┤\n",
       "│ simple_rnn (<span style=\"color: #0087ff; text-decoration-color: #0087ff\">SimpleRNN</span>)          │ (<span style=\"color: #00af00; text-decoration-color: #00af00\">32</span>, <span style=\"color: #00af00; text-decoration-color: #00af00\">128</span>)              │        <span style=\"color: #00af00; text-decoration-color: #00af00\">32,896</span> │\n",
       "├─────────────────────────────────┼────────────────────────┼───────────────┤\n",
       "│ dense (<span style=\"color: #0087ff; text-decoration-color: #0087ff\">Dense</span>)                   │ (<span style=\"color: #00af00; text-decoration-color: #00af00\">32</span>, <span style=\"color: #00af00; text-decoration-color: #00af00\">1</span>)                │           <span style=\"color: #00af00; text-decoration-color: #00af00\">129</span> │\n",
       "└─────────────────────────────────┴────────────────────────┴───────────────┘\n",
       "</pre>\n"
      ],
      "text/plain": [
       "┏━━━━━━━━━━━━━━━━━━━━━━━━━━━━━━━━━┳━━━━━━━━━━━━━━━━━━━━━━━━┳━━━━━━━━━━━━━━━┓\n",
       "┃\u001b[1m \u001b[0m\u001b[1mLayer (type)                   \u001b[0m\u001b[1m \u001b[0m┃\u001b[1m \u001b[0m\u001b[1mOutput Shape          \u001b[0m\u001b[1m \u001b[0m┃\u001b[1m \u001b[0m\u001b[1m      Param #\u001b[0m\u001b[1m \u001b[0m┃\n",
       "┡━━━━━━━━━━━━━━━━━━━━━━━━━━━━━━━━━╇━━━━━━━━━━━━━━━━━━━━━━━━╇━━━━━━━━━━━━━━━┩\n",
       "│ embedding (\u001b[38;5;33mEmbedding\u001b[0m)           │ (\u001b[38;5;34m32\u001b[0m, \u001b[38;5;34m500\u001b[0m, \u001b[38;5;34m128\u001b[0m)         │     \u001b[38;5;34m1,280,000\u001b[0m │\n",
       "├─────────────────────────────────┼────────────────────────┼───────────────┤\n",
       "│ simple_rnn (\u001b[38;5;33mSimpleRNN\u001b[0m)          │ (\u001b[38;5;34m32\u001b[0m, \u001b[38;5;34m128\u001b[0m)              │        \u001b[38;5;34m32,896\u001b[0m │\n",
       "├─────────────────────────────────┼────────────────────────┼───────────────┤\n",
       "│ dense (\u001b[38;5;33mDense\u001b[0m)                   │ (\u001b[38;5;34m32\u001b[0m, \u001b[38;5;34m1\u001b[0m)                │           \u001b[38;5;34m129\u001b[0m │\n",
       "└─────────────────────────────────┴────────────────────────┴───────────────┘\n"
      ]
     },
     "metadata": {},
     "output_type": "display_data"
    },
    {
     "data": {
      "text/html": [
       "<pre style=\"white-space:pre;overflow-x:auto;line-height:normal;font-family:Menlo,'DejaVu Sans Mono',consolas,'Courier New',monospace\"><span style=\"font-weight: bold\"> Total params: </span><span style=\"color: #00af00; text-decoration-color: #00af00\">1,313,027</span> (5.01 MB)\n",
       "</pre>\n"
      ],
      "text/plain": [
       "\u001b[1m Total params: \u001b[0m\u001b[38;5;34m1,313,027\u001b[0m (5.01 MB)\n"
      ]
     },
     "metadata": {},
     "output_type": "display_data"
    },
    {
     "data": {
      "text/html": [
       "<pre style=\"white-space:pre;overflow-x:auto;line-height:normal;font-family:Menlo,'DejaVu Sans Mono',consolas,'Courier New',monospace\"><span style=\"font-weight: bold\"> Trainable params: </span><span style=\"color: #00af00; text-decoration-color: #00af00\">1,313,025</span> (5.01 MB)\n",
       "</pre>\n"
      ],
      "text/plain": [
       "\u001b[1m Trainable params: \u001b[0m\u001b[38;5;34m1,313,025\u001b[0m (5.01 MB)\n"
      ]
     },
     "metadata": {},
     "output_type": "display_data"
    },
    {
     "data": {
      "text/html": [
       "<pre style=\"white-space:pre;overflow-x:auto;line-height:normal;font-family:Menlo,'DejaVu Sans Mono',consolas,'Courier New',monospace\"><span style=\"font-weight: bold\"> Non-trainable params: </span><span style=\"color: #00af00; text-decoration-color: #00af00\">0</span> (0.00 B)\n",
       "</pre>\n"
      ],
      "text/plain": [
       "\u001b[1m Non-trainable params: \u001b[0m\u001b[38;5;34m0\u001b[0m (0.00 B)\n"
      ]
     },
     "metadata": {},
     "output_type": "display_data"
    },
    {
     "data": {
      "text/html": [
       "<pre style=\"white-space:pre;overflow-x:auto;line-height:normal;font-family:Menlo,'DejaVu Sans Mono',consolas,'Courier New',monospace\"><span style=\"font-weight: bold\"> Optimizer params: </span><span style=\"color: #00af00; text-decoration-color: #00af00\">2</span> (12.00 B)\n",
       "</pre>\n"
      ],
      "text/plain": [
       "\u001b[1m Optimizer params: \u001b[0m\u001b[38;5;34m2\u001b[0m (12.00 B)\n"
      ]
     },
     "metadata": {},
     "output_type": "display_data"
    }
   ],
   "source": [
    "# Load the pre-trained model with ReLU activation\n",
    "model = load_model('simple_rnn_imdb.h5')\n",
    "model.summary()"
   ]
  },
  {
   "cell_type": "code",
   "execution_count": 5,
   "metadata": {},
   "outputs": [
    {
     "data": {
      "text/plain": [
       "[array([[ 0.0332553 ,  0.03179971, -0.0193971 , ..., -0.02514959,\n",
       "         -0.06794399, -0.08223177],\n",
       "        [ 0.03686051,  0.06247345, -0.02237114, ..., -0.01664872,\n",
       "          0.00409842,  0.00654592],\n",
       "        [-0.06353074,  0.0760504 , -0.11051505, ..., -0.07833826,\n",
       "         -0.04348584, -0.03024376],\n",
       "        ...,\n",
       "        [ 0.04026333,  0.01767359, -0.05559684, ...,  0.06510688,\n",
       "         -0.04989513, -0.06534287],\n",
       "        [ 0.0054616 , -0.12601678, -0.00109414, ..., -0.10157863,\n",
       "          0.05207044,  0.13076138],\n",
       "        [ 0.04982067,  0.07306002, -0.04946833, ..., -0.03408499,\n",
       "         -0.04183276, -0.07880824]], dtype=float32),\n",
       " array([[ 0.12657179,  0.05598789,  0.11694042, ..., -0.02914586,\n",
       "         -0.02851276, -0.02300244],\n",
       "        [-0.14091048,  0.04323188,  0.03952273, ...,  0.08797937,\n",
       "          0.04148459,  0.12260501],\n",
       "        [-0.06959491,  0.03104036, -0.05625565, ...,  0.10703131,\n",
       "         -0.00152682, -0.07987197],\n",
       "        ...,\n",
       "        [-0.01456171, -0.02529025,  0.09540286, ...,  0.09117642,\n",
       "          0.18100864,  0.00076978],\n",
       "        [-0.11759142,  0.05215391, -0.08605698, ...,  0.05502445,\n",
       "          0.06520266,  0.08246885],\n",
       "        [-0.17075437,  0.0926128 ,  0.08059108, ...,  0.1474023 ,\n",
       "         -0.12564602,  0.10724491]], dtype=float32),\n",
       " array([[-0.02895217, -0.05495064, -0.02503868, ..., -0.01789464,\n",
       "          0.09455252, -0.0535213 ],\n",
       "        [-0.0475596 ,  0.02773832, -0.02595629, ..., -0.15471566,\n",
       "          0.00661128,  0.017614  ],\n",
       "        [ 0.02107739, -0.09704585,  0.10121541, ..., -0.01924498,\n",
       "          0.06592733, -0.03337138],\n",
       "        ...,\n",
       "        [-0.12428733, -0.04919905,  0.17156969, ...,  0.14564052,\n",
       "          0.00572163,  0.07848964],\n",
       "        [-0.05314099, -0.1878382 ,  0.05808197, ...,  0.14781982,\n",
       "         -0.12049977,  0.02931529],\n",
       "        [ 0.09955703, -0.09366152, -0.06148931, ..., -0.05401858,\n",
       "         -0.11782929, -0.09688437]], dtype=float32),\n",
       " array([-0.02344435, -0.03045504,  0.00713595,  0.0315456 , -0.02651214,\n",
       "        -0.02083926, -0.02890257,  0.00231035,  0.02544797, -0.0438899 ,\n",
       "         0.01496721, -0.00242926, -0.02572011, -0.04293142,  0.03802513,\n",
       "         0.02014157,  0.02295973, -0.00523469, -0.04542304,  0.00378687,\n",
       "        -0.02849135, -0.00890877, -0.03493521, -0.03201776, -0.04116433,\n",
       "         0.01520678, -0.02423459, -0.01286671, -0.00371604, -0.01619627,\n",
       "        -0.03923558, -0.03683791, -0.00782519, -0.01462478, -0.01888948,\n",
       "        -0.05165032, -0.01040536, -0.01748833,  0.0159875 , -0.03066008,\n",
       "        -0.01578257, -0.03882726,  0.01335803, -0.04163063, -0.03706471,\n",
       "        -0.03191318,  0.0040081 , -0.03180246, -0.00702999,  0.04415842,\n",
       "         0.01520198, -0.03885468, -0.02048166,  0.02255762,  0.03680986,\n",
       "         0.02172947, -0.03003854, -0.01951999, -0.03027481,  0.04622547,\n",
       "        -0.01024233, -0.01764059, -0.00938203,  0.05633773,  0.01025732,\n",
       "         0.01669316, -0.02913579,  0.03907886,  0.04086364, -0.01788513,\n",
       "        -0.00371681, -0.00453883, -0.01681903,  0.01880039, -0.01235076,\n",
       "        -0.01869807,  0.02519442,  0.03079321, -0.00319162, -0.03611036,\n",
       "         0.02423039, -0.02966239, -0.00516052, -0.0345442 , -0.01952694,\n",
       "         0.01411413, -0.02607008,  0.02812678, -0.00076828, -0.00215356,\n",
       "        -0.02056296, -0.0039816 , -0.03487811, -0.01537245, -0.00834664,\n",
       "         0.02855481, -0.03433637,  0.03071178, -0.01863426, -0.03015151,\n",
       "        -0.00692914, -0.03329806,  0.00378306,  0.02601253, -0.01159147,\n",
       "        -0.02760454,  0.0080265 , -0.00312369, -0.023792  , -0.00121786,\n",
       "        -0.01125624, -0.01647802, -0.01794859, -0.04296837, -0.03789339,\n",
       "        -0.03724343, -0.00827983, -0.02449299, -0.02562926,  0.00052709,\n",
       "         0.01196913, -0.01241341, -0.00805704, -0.02331946, -0.04182013,\n",
       "         0.01520124,  0.03903141, -0.03706493], dtype=float32),\n",
       " array([[ 9.62346718e-02],\n",
       "        [-1.53144404e-01],\n",
       "        [ 2.09795997e-01],\n",
       "        [-8.28128532e-02],\n",
       "        [-4.32087146e-02],\n",
       "        [-1.65370464e-01],\n",
       "        [ 2.24010780e-01],\n",
       "        [ 4.09768522e-01],\n",
       "        [ 2.73529232e-01],\n",
       "        [-1.24702312e-01],\n",
       "        [-2.54732251e-01],\n",
       "        [-3.06746721e-01],\n",
       "        [ 1.53366610e-01],\n",
       "        [-9.82277766e-02],\n",
       "        [-2.20583290e-01],\n",
       "        [ 1.87999174e-01],\n",
       "        [-6.21116869e-02],\n",
       "        [-4.46450025e-01],\n",
       "        [ 4.32951748e-02],\n",
       "        [ 3.76807116e-02],\n",
       "        [ 9.94101912e-02],\n",
       "        [-1.70889556e-01],\n",
       "        [ 6.34618453e-04],\n",
       "        [-4.90434974e-01],\n",
       "        [-2.59541750e-01],\n",
       "        [ 1.00879610e-01],\n",
       "        [-3.10985595e-01],\n",
       "        [-1.79959666e-02],\n",
       "        [ 1.35261938e-01],\n",
       "        [-2.34744221e-01],\n",
       "        [-7.69565403e-02],\n",
       "        [-8.13185722e-02],\n",
       "        [ 4.28423099e-03],\n",
       "        [ 1.28005907e-01],\n",
       "        [ 5.39137483e-01],\n",
       "        [-7.45808659e-03],\n",
       "        [-1.30601570e-01],\n",
       "        [-1.58724502e-01],\n",
       "        [-1.24041140e-02],\n",
       "        [ 1.86612800e-01],\n",
       "        [-8.25716089e-03],\n",
       "        [-1.54619720e-02],\n",
       "        [ 2.35712990e-01],\n",
       "        [-1.37532771e-01],\n",
       "        [ 6.46824613e-02],\n",
       "        [ 1.44890994e-01],\n",
       "        [-9.17902042e-04],\n",
       "        [-6.73605576e-02],\n",
       "        [-8.68235901e-02],\n",
       "        [ 1.17326461e-01],\n",
       "        [-5.41659594e-02],\n",
       "        [ 3.69735323e-02],\n",
       "        [ 1.92411602e-01],\n",
       "        [-5.79369664e-02],\n",
       "        [-1.29628092e-01],\n",
       "        [-4.05286908e-01],\n",
       "        [ 5.08639872e-01],\n",
       "        [-1.37973517e-01],\n",
       "        [-1.07366994e-01],\n",
       "        [-1.19764350e-01],\n",
       "        [-1.86319172e-01],\n",
       "        [ 2.32389361e-01],\n",
       "        [ 1.91160902e-01],\n",
       "        [-1.32585526e-01],\n",
       "        [ 2.10367113e-01],\n",
       "        [-5.70826381e-02],\n",
       "        [-8.62209275e-02],\n",
       "        [ 3.06506921e-02],\n",
       "        [-7.56144002e-02],\n",
       "        [ 1.14422571e-02],\n",
       "        [-2.28468478e-01],\n",
       "        [-2.50709206e-01],\n",
       "        [-4.86735441e-02],\n",
       "        [-1.14098035e-01],\n",
       "        [-1.15052179e-01],\n",
       "        [-3.08712889e-02],\n",
       "        [ 6.16958067e-02],\n",
       "        [ 1.90548953e-02],\n",
       "        [ 1.00798383e-01],\n",
       "        [-2.78405368e-01],\n",
       "        [ 6.88852044e-03],\n",
       "        [ 6.61037326e-01],\n",
       "        [-1.51561305e-01],\n",
       "        [-1.91744670e-01],\n",
       "        [-1.45431608e-01],\n",
       "        [ 2.14215696e-01],\n",
       "        [ 3.01190794e-01],\n",
       "        [ 8.24300647e-02],\n",
       "        [-8.93310159e-02],\n",
       "        [ 4.41640094e-02],\n",
       "        [ 3.72781567e-02],\n",
       "        [-4.03152704e-02],\n",
       "        [-1.49557292e-01],\n",
       "        [-1.35781914e-01],\n",
       "        [-4.15631324e-01],\n",
       "        [-1.65093124e-01],\n",
       "        [ 3.77019234e-02],\n",
       "        [ 1.54461399e-01],\n",
       "        [ 2.07975715e-01],\n",
       "        [-1.28143057e-01],\n",
       "        [-6.92035481e-02],\n",
       "        [-1.83386177e-01],\n",
       "        [-1.66062593e-01],\n",
       "        [-2.50093371e-01],\n",
       "        [-1.72397569e-01],\n",
       "        [-1.45849526e-01],\n",
       "        [ 1.36731252e-01],\n",
       "        [-1.27459392e-02],\n",
       "        [ 2.68643320e-01],\n",
       "        [-1.10898167e-01],\n",
       "        [-6.15509786e-03],\n",
       "        [ 3.63497473e-02],\n",
       "        [-1.27162188e-01],\n",
       "        [-1.04867482e+00],\n",
       "        [ 4.04017597e-01],\n",
       "        [ 4.69095521e-02],\n",
       "        [-1.42334533e+00],\n",
       "        [-2.00413033e-01],\n",
       "        [ 5.31625487e-02],\n",
       "        [-2.99309045e-02],\n",
       "        [ 2.04764813e-01],\n",
       "        [-1.74016893e-01],\n",
       "        [-1.78614743e-02],\n",
       "        [-1.26053914e-01],\n",
       "        [ 2.88181990e-01],\n",
       "        [-7.92871714e-02],\n",
       "        [ 2.06087008e-01],\n",
       "        [ 1.73293844e-01]], dtype=float32),\n",
       " array([-1.1567284], dtype=float32)]"
      ]
     },
     "execution_count": 5,
     "metadata": {},
     "output_type": "execute_result"
    }
   ],
   "source": [
    "model.get_weights()"
   ]
  },
  {
   "cell_type": "code",
   "execution_count": 6,
   "metadata": {},
   "outputs": [],
   "source": [
    "# Step 2: Helper Functions\n",
    "# Function to decode reviews\n",
    "def decode_review(encoded_review):\n",
    "    return ' '.join([reverse_word_index.get(i - 3, '?') for i in encoded_review])\n",
    "\n",
    "# Function to preprocess user input\n",
    "def preprocess_text(text):\n",
    "    words = text.lower().split()\n",
    "    encoded_review = [word_index.get(word, 2) + 3 for word in words]\n",
    "    padded_review = sequence.pad_sequences([encoded_review], maxlen=500)\n",
    "    return padded_review"
   ]
  },
  {
   "cell_type": "code",
   "execution_count": 7,
   "metadata": {},
   "outputs": [],
   "source": [
    "### Prediction  function\n",
    "\n",
    "def predict_sentiment(review):\n",
    "    preprocessed_input=preprocess_text(review)\n",
    "\n",
    "    prediction=model.predict(preprocessed_input)\n",
    "\n",
    "    sentiment = 'Positive' if prediction[0][0] > 0.5 else 'Negative'\n",
    "    \n",
    "    return sentiment, prediction[0][0]\n",
    "\n"
   ]
  },
  {
   "cell_type": "code",
   "execution_count": 8,
   "metadata": {},
   "outputs": [
    {
     "name": "stdout",
     "output_type": "stream",
     "text": [
      "\u001b[1m1/1\u001b[0m \u001b[32m━━━━━━━━━━━━━━━━━━━━\u001b[0m\u001b[37m\u001b[0m \u001b[1m0s\u001b[0m 159ms/step\n",
      "Review: This movie was fantastic! The acting was great and the plot was thrilling.\n",
      "Sentiment: Positive\n",
      "Prediction Score: 0.9652402400970459\n"
     ]
    }
   ],
   "source": [
    "# Step 4: User Input and Prediction\n",
    "# Example review for prediction\n",
    "example_review = \"This movie was fantastic! The acting was great and the plot was thrilling.\"\n",
    "\n",
    "sentiment,score=predict_sentiment(example_review)\n",
    "\n",
    "print(f'Review: {example_review}')\n",
    "print(f'Sentiment: {sentiment}')\n",
    "print(f'Prediction Score: {score}')"
   ]
  },
  {
   "cell_type": "code",
   "execution_count": null,
   "metadata": {},
   "outputs": [],
   "source": []
  },
  {
   "cell_type": "code",
   "execution_count": null,
   "metadata": {},
   "outputs": [],
   "source": []
  },
  {
   "cell_type": "code",
   "execution_count": null,
   "metadata": {},
   "outputs": [],
   "source": []
  },
  {
   "cell_type": "code",
   "execution_count": null,
   "metadata": {},
   "outputs": [],
   "source": []
  }
 ],
 "metadata": {
  "kernelspec": {
   "display_name": "Python 3",
   "language": "python",
   "name": "python3"
  },
  "language_info": {
   "codemirror_mode": {
    "name": "ipython",
    "version": 3
   },
   "file_extension": ".py",
   "mimetype": "text/x-python",
   "name": "python",
   "nbconvert_exporter": "python",
   "pygments_lexer": "ipython3",
   "version": "3.12.0"
  }
 },
 "nbformat": 4,
 "nbformat_minor": 2
}
